{
 "cells": [
  {
   "cell_type": "code",
   "execution_count": null,
   "metadata": {
    "ExecuteTime": {
     "end_time": "2019-09-20T10:06:50.017027Z",
     "start_time": "2019-09-20T10:06:49.834678Z"
    }
   },
   "outputs": [],
   "source": [
    "ls"
   ]
  },
  {
   "cell_type": "markdown",
   "metadata": {},
   "source": [
    "### filter for files with fastq extension"
   ]
  },
  {
   "cell_type": "code",
   "execution_count": null,
   "metadata": {
    "ExecuteTime": {
     "end_time": "2019-09-20T10:12:10.548645Z",
     "start_time": "2019-09-20T10:12:08.906709Z"
    }
   },
   "outputs": [],
   "source": [
    "fastq_list = []\n",
    "for folder, subfolders, files in os.walk('FDAH'):\n",
    "    for file in files:\n",
    "        if '.fastq.' in file and not '.md5' in file and not 'trim' in file and not 'sub' in file:\n",
    "            fastq_list.append(os.path.join(folder,file))\n",
    "fastq_list"
   ]
  },
  {
   "cell_type": "markdown",
   "metadata": {},
   "source": [
    "### read in the sample sheet"
   ]
  },
  {
   "cell_type": "code",
   "execution_count": null,
   "metadata": {
    "ExecuteTime": {
     "end_time": "2019-09-20T10:12:12.441439Z",
     "start_time": "2019-09-20T10:12:12.425718Z"
    }
   },
   "outputs": [],
   "source": [
    "samples = pd.read_csv('sample_sheet1.csv', sep='\\t', index_col=0)\n",
    "samples[:5]"
   ]
  },
  {
   "cell_type": "markdown",
   "metadata": {},
   "source": [
    "### function to retrieve fastqs for specific row of sample sheet"
   ]
  },
  {
   "cell_type": "code",
   "execution_count": null,
   "metadata": {
    "ExecuteTime": {
     "end_time": "2019-09-20T10:12:13.672399Z",
     "start_time": "2019-09-20T10:12:13.656967Z"
    }
   },
   "outputs": [],
   "source": [
    "for file in fastq_list:\n",
    "    print(file)"
   ]
  },
  {
   "cell_type": "code",
   "execution_count": null,
   "metadata": {
    "ExecuteTime": {
     "end_time": "2019-09-20T10:12:18.358618Z",
     "start_time": "2019-09-20T10:12:18.353212Z"
    }
   },
   "outputs": [],
   "source": [
    "def get_fastq_paths(row):\n",
    "    for file in fastq_list:\n",
    "        if row['sample'] in file:\n",
    "            if 'index' in file:\n",
    "                row['index'] = file\n",
    "            elif 'barcode' in file:\n",
    "                row['barcode'] = file\n",
    "            elif '_R1' in file:\n",
    "                row['R1'] = file\n",
    "            elif '_R2' in file:\n",
    "                row['R2'] = file\n",
    "    return row[['name', 'Lane', 'R1', 'R2', 'barcode', 'index']]"
   ]
  },
  {
   "cell_type": "markdown",
   "metadata": {},
   "source": [
    "### populate sample sheet with fastq paths"
   ]
  },
  {
   "cell_type": "code",
   "execution_count": null,
   "metadata": {
    "ExecuteTime": {
     "end_time": "2019-09-20T10:12:19.808196Z",
     "start_time": "2019-09-20T10:12:19.722367Z"
    }
   },
   "outputs": [],
   "source": [
    "samples = samples.apply(get_fastq_paths, axis=1)\n",
    "samples[:5]"
   ]
  },
  {
   "cell_type": "markdown",
   "metadata": {},
   "source": [
    "## get tumor-normal-pairs"
   ]
  },
  {
   "cell_type": "code",
   "execution_count": null,
   "metadata": {
    "ExecuteTime": {
     "end_time": "2019-09-20T10:13:50.951759Z",
     "start_time": "2019-09-20T10:13:50.945875Z"
    }
   },
   "outputs": [],
   "source": [
    "def get_tumor_normal_pairs(samples):\n",
    "    '''\n",
    "    turns valid_file_info into tuples of valid tumor normal pairs\n",
    "    '''\n",
    "\n",
    "    # extract the tumor-normal suffix\n",
    "    samples[['sample', 'TN']] = samples['name'].str.extract('(?P<sample>^[^_]+)_(?P<TN>[^_]+)$')\n",
    "    tumor = 'A'\n",
    "    normal = 'B'\n",
    "\n",
    "    def TN_pair(group):\n",
    "        print(group['name'])\n",
    "        if tumor in list(group['TN']) and normal in list(group['TN']):\n",
    "            return f\"{group['sample'][0]}_{tumor}-{normal}\"\n",
    "        \n",
    "    TN_df = pd.DataFrame()\n",
    "    TN_df['pairs'] = samples.groupby('sample').apply(TN_pair)\n",
    "    return list(TN_df['pairs'])"
   ]
  },
  {
   "cell_type": "code",
   "execution_count": null,
   "metadata": {
    "ExecuteTime": {
     "end_time": "2019-09-20T10:16:45.906557Z",
     "start_time": "2019-09-20T10:16:45.891040Z"
    }
   },
   "outputs": [],
   "source": [
    "def TN_pair(group):\n",
    "    print(group['name'])\n",
    "    if tumor in list(group['TN']) and normal in list(group['TN']):\n",
    "        return f\"{group['sample'][0]}_{tumor}-{normal}\"\n",
    "    \n",
    "samples.groupby('sample').apply(lambda df: df['name'])"
   ]
  },
  {
   "cell_type": "markdown",
   "metadata": {
    "ExecuteTime": {
     "end_time": "2019-09-19T15:40:40.286725Z",
     "start_time": "2019-09-19T15:40:40.271303Z"
    }
   },
   "source": [
    "### get sample-type list for multiqc"
   ]
  },
  {
   "cell_type": "code",
   "execution_count": null,
   "metadata": {
    "ExecuteTime": {
     "end_time": "2019-09-20T06:30:44.173599Z",
     "start_time": "2019-09-20T06:30:44.168238Z"
    }
   },
   "outputs": [],
   "source": [
    "def get_fastqc_list():\n",
    "    fastqc_list = []\n",
    "    trim_suffix = 'TRIM'\n",
    "    # create file list from the included_files tuple list\n",
    "    read1 = 'R1'\n",
    "    read2 = 'R2'\n",
    "    trim_suffix = 'TRIM'\n",
    "    for file_name in samples['name']:\n",
    "        fastqc_list.append(f\"fastQC/{file_name}_{read1}_fastqc.zip\")\n",
    "        fastqc_list.append(f\"fastQC/{file_name}_{read2}_fastqc.zip\")\n",
    "        if True: # config['trim']['trimming']:\n",
    "            fastqc_list.append(f\"fastQC/{file_name}_{read1}.{trim_suffix}_fastqc.zip\")\n",
    "            fastqc_list.append(f\"fastQC/{file_name}_{read2}.{trim_suffix}_fastqc.zip\")\n",
    "    return fastqc_list"
   ]
  },
  {
   "cell_type": "code",
   "execution_count": null,
   "metadata": {
    "ExecuteTime": {
     "end_time": "2019-09-20T06:30:44.741258Z",
     "start_time": "2019-09-20T06:30:44.736605Z"
    }
   },
   "outputs": [],
   "source": [
    "get_fastqc_list()"
   ]
  }
 ],
 "metadata": {
  "kernelspec": {
   "display_name": "Python 3",
   "language": "python",
   "name": "python3"
  },
  "language_info": {
   "codemirror_mode": {
    "name": "ipython",
    "version": 3
   },
   "file_extension": ".py",
   "mimetype": "text/x-python",
   "name": "python",
   "nbconvert_exporter": "python",
   "pygments_lexer": "ipython3",
   "version": "3.7.6"
  },
  "varInspector": {
   "cols": {
    "lenName": 16,
    "lenType": 16,
    "lenVar": 40
   },
   "kernels_config": {
    "python": {
     "delete_cmd_postfix": "",
     "delete_cmd_prefix": "del ",
     "library": "var_list.py",
     "varRefreshCmd": "print(var_dic_list())"
    },
    "r": {
     "delete_cmd_postfix": ") ",
     "delete_cmd_prefix": "rm(",
     "library": "var_list.r",
     "varRefreshCmd": "cat(var_dic_list()) "
    }
   },
   "types_to_exclude": [
    "module",
    "function",
    "builtin_function_or_method",
    "instance",
    "_Feature"
   ],
   "window_display": false
  }
 },
 "nbformat": 4,
 "nbformat_minor": 2
}
