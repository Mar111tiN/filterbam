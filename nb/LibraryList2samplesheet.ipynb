{
 "cells": [
  {
   "cell_type": "code",
   "execution_count": null,
   "metadata": {
    "ExecuteTime": {
     "end_time": "2020-02-29T16:22:49.487286Z",
     "start_time": "2020-02-29T16:22:49.428986Z"
    }
   },
   "outputs": [],
   "source": [
    "library_list = '/Volumes/AG-Damm/Daten/AML_Monosomy7/Sequencing/P615/P615_2a_Library_List_Illumina.xlsx'\n",
    "lib_list = pd.read_excel(library_list, skiprows=21)\n",
    "lib_list"
   ]
  },
  {
   "cell_type": "code",
   "execution_count": null,
   "metadata": {
    "ExecuteTime": {
     "end_time": "2020-02-29T16:22:51.158090Z",
     "start_time": "2020-02-29T16:22:51.147707Z"
    }
   },
   "outputs": [],
   "source": [
    "lib_list = lib_list.iloc[:,[0,2]]\n",
    "lib_list"
   ]
  },
  {
   "cell_type": "code",
   "execution_count": null,
   "metadata": {
    "ExecuteTime": {
     "end_time": "2020-02-29T16:22:54.324044Z",
     "start_time": "2020-02-29T16:22:54.308794Z"
    }
   },
   "outputs": [],
   "source": [
    "lib_list['Lane'] = lib_list['Library order number'].lt(lib_list['Library order number'].shift()).astype(int).cumsum() + 1\n",
    "lib_list = lib_list.rename(columns={'Library  Code/Name': 'sample'}).drop(columns='Library order number')\n",
    "lib_list"
   ]
  },
  {
   "cell_type": "code",
   "execution_count": null,
   "metadata": {
    "ExecuteTime": {
     "end_time": "2020-02-29T16:22:58.305719Z",
     "start_time": "2020-02-29T16:22:58.291115Z"
    }
   },
   "outputs": [],
   "source": [
    "lib_list['name'] = lib_list['sample'].str.replace(r'_2', '').str.replace(r'([AB]$)', r'_\\1')\n",
    "lib_list['sample'] = lib_list['sample'] + '_S' + (lib_list.index +1).astype(str)\n",
    "lib_list\n"
   ]
  },
  {
   "cell_type": "code",
   "execution_count": null,
   "metadata": {
    "ExecuteTime": {
     "end_time": "2020-02-29T17:01:02.307802Z",
     "start_time": "2020-02-29T17:01:02.142666Z"
    }
   },
   "outputs": [],
   "source": [
    "lib_list.to_csv('../sheets/FDAH3_sheet.csv', sep='\\t')"
   ]
  },
  {
   "cell_type": "code",
   "execution_count": null,
   "metadata": {},
   "outputs": [],
   "source": []
  }
 ],
 "metadata": {
  "kernelspec": {
   "display_name": "Python 3",
   "language": "python",
   "name": "python3"
  },
  "language_info": {
   "codemirror_mode": {
    "name": "ipython",
    "version": 3
   },
   "file_extension": ".py",
   "mimetype": "text/x-python",
   "name": "python",
   "nbconvert_exporter": "python",
   "pygments_lexer": "ipython3",
   "version": "3.7.6"
  },
  "varInspector": {
   "cols": {
    "lenName": 16,
    "lenType": 16,
    "lenVar": 40
   },
   "kernels_config": {
    "python": {
     "delete_cmd_postfix": "",
     "delete_cmd_prefix": "del ",
     "library": "var_list.py",
     "varRefreshCmd": "print(var_dic_list())"
    },
    "r": {
     "delete_cmd_postfix": ") ",
     "delete_cmd_prefix": "rm(",
     "library": "var_list.r",
     "varRefreshCmd": "cat(var_dic_list()) "
    }
   },
   "types_to_exclude": [
    "module",
    "function",
    "builtin_function_or_method",
    "instance",
    "_Feature"
   ],
   "window_display": false
  }
 },
 "nbformat": 4,
 "nbformat_minor": 4
}
